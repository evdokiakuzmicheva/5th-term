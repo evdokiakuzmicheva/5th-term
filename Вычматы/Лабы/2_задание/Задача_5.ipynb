{
 "cells": [
  {
   "cell_type": "code",
   "execution_count": 1,
   "metadata": {},
   "outputs": [],
   "source": [
    "import numpy as np\n",
    "from sympy import *\n",
    "from matplotlib import pyplot as plt"
   ]
  },
  {
   "cell_type": "code",
   "execution_count": 2,
   "metadata": {},
   "outputs": [],
   "source": [
    "def image(a1, a2, s):\n",
    "    fig, ax = plt.subplots()\n",
    "    ax.plot(a1, a2, '-', color = 'darkblue')\n",
    "    ax.set_title(s)\n",
    "    ax.grid()\n",
    "    plt.show()"
   ]
  },
  {
   "cell_type": "markdown",
   "metadata": {},
   "source": [
    "#### Начальные условия"
   ]
  },
  {
   "cell_type": "code",
   "execution_count": 3,
   "metadata": {},
   "outputs": [],
   "source": [
    "mu = 0.012277471\n",
    "eta = 1 - mu\n",
    "\n",
    "def A(x, y):\n",
    "    return np.sqrt(((x + mu)**2 + y**2)**3)\n",
    "def B(x, y):\n",
    "    return np.sqrt(((x - eta)**2 + y**2)**3)\n",
    "\n",
    "def dx_dt(x, u, y, v):\n",
    "    return u\n",
    "def du_dt(x, u, y, v):\n",
    "    return x + 2*v - eta * ((x + mu)/ A(x, y)) - mu * ((x - eta) / B(x, y))\n",
    "def dy_dt(x, u, y, v):\n",
    "    return v\n",
    "def dv_dt(x, u, y, v):\n",
    "    return y - 2*u - eta * (y / A(x, y)) - mu * (y / B(x, y))\n",
    "\n",
    "def f(t, u):\n",
    "    a1 = dx_dt(u[0], u[1], u[2], u[3])\n",
    "    a2 = du_dt(u[0], u[1], u[2], u[3])\n",
    "    a3 = dy_dt(u[0], u[1], u[2], u[3])\n",
    "    a4 = dv_dt(u[0], u[1], u[2], u[3])\n",
    "    return np.array([a1, a2, a3, a4])\n",
    "\n",
    "u0 = np.array([0.994, 0, 0, -2.00158510637908252240537862224])"
   ]
  },
  {
   "cell_type": "markdown",
   "metadata": {},
   "source": [
    "#### Методы Рунге-Кутты"
   ]
  },
  {
   "cell_type": "code",
   "execution_count": 4,
   "metadata": {},
   "outputs": [],
   "source": [
    "def abs_(vect):\n",
    "    s = 0\n",
    "    for i in range(len(vect)):\n",
    "        s += vect[i]**2\n",
    "    return s**(1/2)\n",
    "\n",
    "def RK2(f, t, u, h):\n",
    "    c_ = u + h/2 * f(t, u)\n",
    "    v0 = u\n",
    "    v = v0\n",
    "    eps = 1e-5\n",
    "    while True:\n",
    "        if abs_(c_ + h/2 * f(t + h, v) - v) < eps:\n",
    "            return v\n",
    "        v = c_ + h/2 * f(t + h, v)\n",
    "\n",
    "def RK4(f, t, u, h): \n",
    "    k1 = h * f(t, u) \n",
    "    k2 = h * f(t + 0.5*h, u + 0.5*k1) \n",
    "    k3 = h * f(t + 0.5*h, u + 0.5*k2) \n",
    "    k4 = h * f(t + h, u + k3) \n",
    "    return u + (k1/6) + (k2/3) + (k3/3) + (k4/6)"
   ]
  },
  {
   "cell_type": "markdown",
   "metadata": {},
   "source": [
    "#### Расчёт"
   ]
  },
  {
   "cell_type": "code",
   "execution_count": 5,
   "metadata": {},
   "outputs": [],
   "source": [
    "u = u0\n",
    "u_ = [u0]\n",
    "\n",
    "t = 0\n",
    "h = 1e-4\n",
    "T = 34\n",
    "\n",
    "while t < T:\n",
    "    u = RK2(f, t, u, h)\n",
    "    u_.append(u)\n",
    "    t += h\n",
    "\n",
    "u_ = np.array(u_)"
   ]
  },
  {
   "cell_type": "markdown",
   "metadata": {},
   "source": [
    "#### Графики"
   ]
  },
  {
   "cell_type": "code",
   "execution_count": 6,
   "metadata": {},
   "outputs": [
    {
     "data": {
      "image/png": "[encoded data removed]",
      "text/plain": [
       "<Figure size 432x288 with 1 Axes>"
      ]
     },
     "metadata": {
      "needs_background": "light"
     },
     "output_type": "display_data"
    }
   ],
   "source": [
    "#image(np.linspace(0, T, num = len(u_)), u_[:, 0], 'x(t)')\n",
    "image(u_[:, 0], u_[:, 2], 'x, y')"
   ]
  },
  {
   "cell_type": "code",
   "execution_count": null,
   "metadata": {},
   "outputs": [],
   "source": []
  },
  {
   "cell_type": "code",
   "execution_count": null,
   "metadata": {},
   "outputs": [],
   "source": []
  }
 ],
 "metadata": {
  "kernelspec": {
   "display_name": "Python 3",
   "language": "python",
   "name": "python3"
  },
  "language_info": {
   "codemirror_mode": {
    "name": "ipython",
    "version": 3
   },
   "file_extension": ".py",
   "mimetype": "text/x-python",
   "name": "python",
   "nbconvert_exporter": "python",
   "pygments_lexer": "ipython3",
   "version": "3.8.3"
  }
 },
 "nbformat": 4,
 "nbformat_minor": 4
}
