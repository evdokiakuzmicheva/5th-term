{
 "cells": [
  {
   "cell_type": "code",
   "execution_count": 1,
   "metadata": {},
   "outputs": [],
   "source": [
    "import numpy as np\n",
    "from sympy import *\n",
    "from matplotlib import pyplot as plt"
   ]
  },
  {
   "cell_type": "code",
   "execution_count": 65,
   "metadata": {},
   "outputs": [],
   "source": [
    "def image(a2):\n",
    "    a1 = np.linspace(0, T, len(arr))\n",
    "    fig, ax = plt.subplots()\n",
    "    ax.plot(a1, a2, '-', color = 'darkblue')\n",
    "    ax.grid()\n",
    "    plt.show()"
   ]
  },
  {
   "cell_type": "markdown",
   "metadata": {},
   "source": [
    "### Метод Эйлера-Коши"
   ]
  },
  {
   "cell_type": "code",
   "execution_count": 69,
   "metadata": {},
   "outputs": [
    {
     "data": {
      "image/png": "[encoded data removed]",
      "text/plain": [
       "<Figure size 432x288 with 1 Axes>"
      ]
     },
     "metadata": {
      "needs_background": "light"
     },
     "output_type": "display_data"
    }
   ],
   "source": [
    "y0 = 0\n",
    "z0 = 0.001\n",
    "t0 = 0\n",
    "mu = 1e+3\n",
    "\n",
    "'''\n",
    "N = 1e+6\n",
    "T = 500\n",
    "'''\n",
    "N = 1e+7\n",
    "T = 1000\n",
    "h = T / N\n",
    "\n",
    "def z_(x, y):\n",
    "    return \n",
    "\n",
    "def iteration(t, y, z, y_p, z_p):\n",
    "    y_new = y_p + h * z\n",
    "    z_new = z_p + h * (mu * (1 - z**2) * z - y)\n",
    "    '''\n",
    "    y_new = y + h * z\n",
    "    z_new = z + h * (mu * (1 - z**2) * z - y)\n",
    "    '''\n",
    "    return (y_new, z_new)\n",
    "\n",
    "y, z, t = y0, z0, t0\n",
    "arr = [y]\n",
    "y1 = y + h * z\n",
    "z1 = z + h * (mu * (1 - z**2) * z - y)\n",
    "\n",
    "arr.append(y1)\n",
    "i = 0\n",
    "\n",
    "arr_2 = []\n",
    "\n",
    "while t < T:\n",
    "    if i == 0:\n",
    "        y_p, z_p = y1, z1\n",
    "        arr_2.append([y1, z1])\n",
    "        y_next = y_p + 2*h * z\n",
    "        z_next = z_p + 2*h * (mu * (1 - z**2) * z - y)\n",
    "        arr_2.append([y_next, z_next])\n",
    "    y, z = iteration(t, y, z, arr_2[len(arr_2) - 1][0], arr_2[len(arr_2) - 1][1])\n",
    "    arr_2.append([y, z])\n",
    "    \n",
    "    arr.append(y)\n",
    "    t += h\n",
    "    i += 1\n",
    "    \n",
    "image(arr)"
   ]
  },
  {
   "cell_type": "markdown",
   "metadata": {},
   "source": [
    "$$\n",
    "y'' = \\mu (1-y'^2)y' -t,\\\\\n",
    "y(0) = 0, \\;\\;\\;y'(0) = 0.001\n",
    "$$"
   ]
  },
  {
   "cell_type": "code",
   "execution_count": null,
   "metadata": {},
   "outputs": [],
   "source": []
  }
 ],
 "metadata": {
  "kernelspec": {
   "display_name": "Python 3",
   "language": "python",
   "name": "python3"
  },
  "language_info": {
   "codemirror_mode": {
    "name": "ipython",
    "version": 3
   },
   "file_extension": ".py",
   "mimetype": "text/x-python",
   "name": "python",
   "nbconvert_exporter": "python",
   "pygments_lexer": "ipython3",
   "version": "3.8.3"
  }
 },
 "nbformat": 4,
 "nbformat_minor": 4
}
