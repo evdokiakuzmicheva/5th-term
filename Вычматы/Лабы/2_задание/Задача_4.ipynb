{
 "cells": [
  {
   "cell_type": "code",
   "execution_count": 1,
   "metadata": {},
   "outputs": [],
   "source": [
    "import numpy as np\n",
    "from sympy import *\n",
    "from matplotlib import pyplot as plt"
   ]
  },
  {
   "cell_type": "code",
   "execution_count": 2,
   "metadata": {},
   "outputs": [],
   "source": [
    "def image(a1, a2, s):\n",
    "    fig, ax = plt.subplots()\n",
    "    ax.plot(a1, a2, '-', color = 'darkblue')\n",
    "    ax.set_title(s)\n",
    "    ax.grid()\n",
    "    plt.show()"
   ]
  },
  {
   "cell_type": "markdown",
   "metadata": {},
   "source": [
    "$$\n",
    "y'' = \\sqrt{\\frac 1{x^2} + \\frac e {\\ln x}y^2 - e^{y'}y}\\\\\n",
    "y(e) = e,\\;\\;\\;y(e^2) = 2e^2\n",
    "$$"
   ]
  },
  {
   "cell_type": "markdown",
   "metadata": {},
   "source": [
    "#### Решение задачи Коши"
   ]
  },
  {
   "cell_type": "code",
   "execution_count": 3,
   "metadata": {},
   "outputs": [],
   "source": [
    "e = np.exp(1)\n",
    "L1, L2 = e, e**2\n",
    "Y1, Y2 = e, 2*e**2\n",
    "\n",
    "arr_y = []\n",
    "\n",
    "global h\n",
    "N = 1e+4\n",
    "h = (L2 - L1) / N\n",
    "\n",
    "def f(x, y, dy):\n",
    "    return np.sqrt(1/x**2 + e/np.log(x) * (y**2) - np.exp(dy)*y)\n",
    "\n",
    "def iteration(x, y, dy):\n",
    "    y_next = y + h*dy\n",
    "    dy_next = dy + h*f(x, y, dy)\n",
    "    return (y_next, dy_next)\n",
    "\n",
    "def shooting(alpha):\n",
    "    global arr_y\n",
    "    dy_0 = alpha\n",
    "\n",
    "    x = L1\n",
    "    y = Y1\n",
    "    dy = dy_0\n",
    "    arr_y = [y]\n",
    "    while x < L2:\n",
    "        y, dy = iteration(x, y, dy)\n",
    "        arr_y.append(y)\n",
    "        x += h\n",
    "    return y"
   ]
  },
  {
   "cell_type": "markdown",
   "metadata": {},
   "source": [
    "#### Метод Ньютона для нахождения оптимального пристрелочного параметра"
   ]
  },
  {
   "cell_type": "code",
   "execution_count": 5,
   "metadata": {},
   "outputs": [
    {
     "name": "stdout",
     "output_type": "stream",
     "text": [
      "2.005370766075815\n"
     ]
    }
   ],
   "source": [
    "h_ = 1e-3\n",
    "\n",
    "def F (alpha):\n",
    "    return shooting(alpha) - Y2\n",
    "\n",
    "def dF(alpha):\n",
    "    return (F(alpha + h_) - F(alpha)) / h_\n",
    "\n",
    "def Newton():\n",
    "    alpha_opt = 1\n",
    "    for i in range(100):\n",
    "        alpha_opt = alpha_opt - (F(alpha_opt) / dF(alpha_opt))\n",
    "    return alpha_opt\n",
    "\n",
    "alpha_opt = Newton()\n",
    "print(alpha_opt)"
   ]
  },
  {
   "cell_type": "markdown",
   "metadata": {},
   "source": [
    "#### Решение при оптимальном параметре"
   ]
  },
  {
   "cell_type": "code",
   "execution_count": 6,
   "metadata": {},
   "outputs": [],
   "source": [
    "y = shooting(alpha_opt)"
   ]
  },
  {
   "cell_type": "markdown",
   "metadata": {},
   "source": [
    "#### График"
   ]
  },
  {
   "cell_type": "code",
   "execution_count": 7,
   "metadata": {},
   "outputs": [
    {
     "data": {
      "image/png": "[encoded data removed]",
      "text/plain": [
       "<Figure size 432x288 with 1 Axes>"
      ]
     },
     "metadata": {
      "needs_background": "light"
     },
     "output_type": "display_data"
    }
   ],
   "source": [
    "image(np.linspace(L1, L2, len(arr_y)), arr_y, 'y(x)')"
   ]
  },
  {
   "cell_type": "code",
   "execution_count": null,
   "metadata": {},
   "outputs": [],
   "source": []
  }
 ],
 "metadata": {
  "kernelspec": {
   "display_name": "Python 3",
   "language": "python",
   "name": "python3"
  },
  "language_info": {
   "codemirror_mode": {
    "name": "ipython",
    "version": 3
   },
   "file_extension": ".py",
   "mimetype": "text/x-python",
   "name": "python",
   "nbconvert_exporter": "python",
   "pygments_lexer": "ipython3",
   "version": "3.8.3"
  }
 },
 "nbformat": 4,
 "nbformat_minor": 4
}
