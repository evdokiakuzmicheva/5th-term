{
 "cells": [
  {
   "cell_type": "code",
   "execution_count": 5,
   "metadata": {},
   "outputs": [],
   "source": [
    "import numpy as np\n",
    "from sympy import *\n",
    "from matplotlib import pyplot as plt"
   ]
  },
  {
   "cell_type": "code",
   "execution_count": 6,
   "metadata": {},
   "outputs": [],
   "source": [
    "def image(a1, a2):\n",
    "    fig, ax = plt.subplots()\n",
    "    ax.plot(a1, a2, '--', color = 'darkblue')\n",
    "    ax.grid()\n",
    "    plt.show()"
   ]
  },
  {
   "cell_type": "markdown",
   "metadata": {},
   "source": [
    "### Решение задачи Коши"
   ]
  },
  {
   "cell_type": "code",
   "execution_count": 10,
   "metadata": {},
   "outputs": [],
   "source": [
    "class Cauchy_problem:\n",
    "    def __init__(self, alpha, beta, L1, L2, f):\n",
    "        self.alpha, self.L1, self.L2, self.f = alpha, L1, L2, f\n",
    "        self.beta = beta\n",
    "        \n",
    "    def z_(self, x, y, z):\n",
    "        return self.f.subs({symbols('x'): x, symbols('y'): y, symbols('z'): z})\n",
    "\n",
    "    def y_iteration(self, y, z, h):\n",
    "        return y + h * z\n",
    "\n",
    "    def z_iteration(self, x, y, z, h):\n",
    "        return z + h * self.z_(x, y, z)\n",
    "\n",
    "    def solve_ZK(self):\n",
    "        N = 100\n",
    "        h = (self.L2 - self.L1) / N\n",
    "        arr_x, arr_y = [], []\n",
    "\n",
    "        x0, y0, z0 = self.L1, self.beta, self.alpha\n",
    "        x, y, z = x0, y0, z0\n",
    "        arr_x.append(x0)\n",
    "        arr_y.append(y0)\n",
    "\n",
    "        for i in range(N):\n",
    "            y_new = self.y_iteration(y, z, h)\n",
    "            z_new = self.z_iteration(x, y, z, h)\n",
    "            x_new = x + h\n",
    "            x, y, z = x_new, y_new, z_new\n",
    "            arr_x.append(x)\n",
    "            arr_y.append(y)\n",
    "        self.x, self.y = arr_x, arr_y\n",
    "        \n",
    "    def print_solution(self):\n",
    "        print('Решение на отрезке [0, ' + str(L2) + ']:')\n",
    "        for i in range(len(self.x)):\n",
    "            print('y(' + str(round(self.x[i], 2)) + ') = ', round(self.y[i], 5))\n",
    "        \n",
    "    def solve(self):\n",
    "        self.solve_ZK()\n",
    "        self.print_solution()\n",
    "        image(self.x, self.y)"
   ]
  },
  {
   "cell_type": "markdown",
   "metadata": {},
   "source": [
    "### Реализация решения методом пристрелки"
   ]
  },
  {
   "cell_type": "code",
   "execution_count": 56,
   "metadata": {},
   "outputs": [],
   "source": [
    "class shooting_procedure:\n",
    "    def __init__(self, f, L1, L2, A, B):\n",
    "        self.M = 5\n",
    "        self.L1, self.L2 = L1, L2\n",
    "        self.f = f\n",
    "        self.A, self.B = A, B\n",
    "        return\n",
    "    \n",
    "    def y(self, alpha):\n",
    "        S = Cauchy_problem(alpha, self.A, self.L1, self.L2, self.f)\n",
    "        S.solve_ZK()\n",
    "        return S.y[len(S.y) - 1]\n",
    "\n",
    "    def F(self, alpha):\n",
    "        return self.y(alpha) - self.B\n",
    "\n",
    "    def der_F(self, al):\n",
    "        h = 1e-3\n",
    "        return (self.F(al + h) - self.F(al)) / h\n",
    "\n",
    "    def alpha_(self, al):\n",
    "        return al - self.F(al) / self.der_F(al)\n",
    "    \n",
    "    def print_solution(self):\n",
    "        print('Количество итераций поиска альфы =', self.i)\n",
    "        for i in range(len(self.x)):\n",
    "            print('y(' + str(round(self.x[i], 2)) + ') = ', round(self.y[i], self.M))\n",
    "    \n",
    "    def shooting(self):\n",
    "        eps = 10 ** (-self.M)\n",
    "        alpha = (self.B - self.A) / (self.L2 - self.L1)\n",
    "        i = 0\n",
    "        while 1:\n",
    "            i += 1\n",
    "            if abs(self.F(alpha)) > eps:\n",
    "                alpha = self.alpha_(alpha)\n",
    "            else:\n",
    "                b = False\n",
    "                S = Cauchy_problem(alpha, self.A, self.L1, self.L2, self.f)\n",
    "                S.solve_ZK()\n",
    "                self.x, self.y = S.x, S.y\n",
    "                self.i = i\n",
    "                self.alpha = alpha\n",
    "                return\n",
    "    \n",
    "    def shoot(self):\n",
    "        self.shooting()\n",
    "        #self.print_solution()\n",
    "        image(self.x, self.y)"
   ]
  },
  {
   "cell_type": "code",
   "execution_count": 57,
   "metadata": {},
   "outputs": [
    {
     "data": {
      "image/png": "[encoded data removed]",
      "text/plain": [
       "<Figure size 432x288 with 1 Axes>"
      ]
     },
     "metadata": {
      "needs_background": "light"
     },
     "output_type": "display_data"
    }
   ],
   "source": [
    "# Задание функции z = f(x, y, z)\n",
    "x, y, z = symbols('x y z')\n",
    "def f(p, x, y, z):\n",
    "    if p == 1:\n",
    "        return (x**2 - 3) * (z + y * cos(x))\n",
    "    if p == 2:\n",
    "        return 2 - 6*x + 2*x**3 + (x**2 - 3) * exp(x) * sin(x) * (1 + cos(x))\n",
    "    if p == 3:\n",
    "        return cos(x) * (exp(x) + (x**2 - 1) + x**4 - 3*x**2)\n",
    "    if p == 4:\n",
    "        return -f(1, x, y, z) + f(2, x, y, z) + f(3, x, y, z)\n",
    "g = f(4, x, y, z)\n",
    "\n",
    "\n",
    "# Задание параметров задачи\n",
    "A, B = 0, pi**2\n",
    "L1, L2 = 0, np.pi\n",
    "\n",
    "P = shooting_procedure(g, L1, L2, A, B)\n",
    "P.shoot()"
   ]
  },
  {
   "cell_type": "code",
   "execution_count": 5,
   "metadata": {},
   "outputs": [
    {
     "name": "stdout",
     "output_type": "stream",
     "text": [
      "f(0.5)\t= 0.69799\n",
      "f(1)\t= 2.07702\n",
      "f(1.5)\t= 3.76857\n",
      "f(2)\t= 5.35677\n",
      "f(2.5)\t= 7.20861\n",
      "f(3)\t= 9.6504\n"
     ]
    }
   ],
   "source": [
    "def find_solution(x, y, x0):\n",
    "    for i in range(1, len(y)):\n",
    "        if x[i - 1] < x0 and x0 < x[i]:\n",
    "            return float((y[i - 1] + y[i]) / 2)\n",
    "    \n",
    "arr = [0.5, 1, 1.5, 2, 2.5, 3]\n",
    "f = []\n",
    "for i in range(len(arr)):\n",
    "    f.append(find_solution(P.x, P.y, arr[i]))\n",
    "\n",
    "f = np.array(f).round(5)\n",
    "for i in range(len(f)):\n",
    "    print('f(' + str(arr[i]) + ')\\t= ' + str(f[i]))"
   ]
  },
  {
   "cell_type": "code",
   "execution_count": 14,
   "metadata": {},
   "outputs": [
    {
     "name": "stdout",
     "output_type": "stream",
     "text": [
      "0.517410434922083\n"
     ]
    }
   ],
   "source": [
    "print(float(P.alpha))"
   ]
  },
  {
   "cell_type": "code",
   "execution_count": 62,
   "metadata": {},
   "outputs": [
    {
     "data": {
      "image/png": "[encoded data removed]",
      "text/plain": [
       "<Figure size 432x288 with 1 Axes>"
      ]
     },
     "metadata": {
      "needs_background": "light"
     },
     "output_type": "display_data"
    }
   ],
   "source": [
    "def g(p, x, y, z):\n",
    "    if p == 1:\n",
    "        return (x**2 - 3) * (z + y * np.cos(x))\n",
    "    if p == 2:\n",
    "        return 2 - 6*x + 2*x**3 + (x**2 - 3) * np.exp(x) * np.sin(x) * (1 + np.cos(x))\n",
    "    if p == 3:\n",
    "        return np.cos(x) * (np.exp(x) + (x**2 - 1) + x**4 - 3*x**2)\n",
    "    if p == 4:\n",
    "        return -g(1, x, y, z) + g(2, x, y, z) + g(3, x, y, z)\n",
    "\n",
    "def dy_dt(y, z, alpha):\n",
    "    return z\n",
    "\n",
    "def dz_dt(t, y, z):\n",
    "    return g(4, t, y, z)\n",
    "\n",
    "def f(t, u, alpha):\n",
    "    a1 = dy_dt(u[0], u[1], alpha)\n",
    "    a2 = dz_dt(t, u[0], u[1])\n",
    "    return np.array([a1, a2])\n",
    "\n",
    "def RK4(t, u, h): \n",
    "    k1 = h * f(t, u, alpha)\n",
    "    k2 = h * f(t + (1/2)*h, u + (1/2)*k1, alpha)\n",
    "    k3 = h * f(t + (1/2)*h, u + (1/2)*k2, alpha)\n",
    "    k4 = h * f(t + h, u + k3, alpha)\n",
    "    return u + (k1/6) + (k2/3) + (k3/3) + (k4/6)\n",
    "\n",
    "def solve_(alpha):\n",
    "    u = np.array([0, alpha])\n",
    "    u_ = [u]\n",
    "\n",
    "    t = 0\n",
    "    h = 1e-4\n",
    "    T = np.pi\n",
    "    while t < T:\n",
    "        u = RK4(t, u, h)\n",
    "        u_.append(u)\n",
    "        t += h\n",
    "    arr_x = np.linspace(0, T, num = int(T/h)+2)\n",
    "\n",
    "    u_ = np.array(u_)\n",
    "    arr_y, arr_z = [], []\n",
    "    for i in range(len(u_)):\n",
    "        arr_y.append(u_[i][0])\n",
    "        arr_z.append(u_[i][1])\n",
    "    return arr_y\n",
    "\n",
    "c = solve_(alpha)\n",
    "image(np.linspace(0, np.pi, num = len(c)), c)"
   ]
  },
  {
   "cell_type": "code",
   "execution_count": 66,
   "metadata": {},
   "outputs": [],
   "source": [
    "class shooting_procedure:\n",
    "    def __init__(self, f, L1, L2, A, B):\n",
    "        self.M = 5\n",
    "        self.L1, self.L2 = L1, L2\n",
    "        self.f = f\n",
    "        self.A, self.B = A, B\n",
    "        return\n",
    "    \n",
    "    def y(self, alpha):\n",
    "        S = solve_(alpha)\n",
    "        return S[len(S) - 1]\n",
    "\n",
    "    def F(self, alpha):\n",
    "        return self.y(alpha) - self.B\n",
    "\n",
    "    def der_F(self, al):\n",
    "        h = 1e-3\n",
    "        return (self.F(al + h) - self.F(al)) / h\n",
    "\n",
    "    def alpha_(self, al):\n",
    "        return al - self.F(al) / self.der_F(al)\n",
    "    \n",
    "    def print_solution(self):\n",
    "        print('Количество итераций поиска альфы =', self.i)\n",
    "        for i in range(len(self.x)):\n",
    "            print('y(' + str(round(self.x[i], 2)) + ') = ', round(self.y[i], self.M))\n",
    "    \n",
    "    def shooting(self):\n",
    "        eps = 10 ** (-self.M)\n",
    "        alpha = (self.B - self.A) / (self.L2 - self.L1)\n",
    "        i = 0\n",
    "        while 1:\n",
    "            i += 1\n",
    "            if abs(self.F(alpha)) > eps:\n",
    "                alpha = self.alpha_(alpha)\n",
    "            else:\n",
    "                b = False\n",
    "                S = solve_(alpha)\n",
    "                self.i = i\n",
    "                self.alpha = alpha\n",
    "                self.y = S\n",
    "                self.x = np.linspace(0, np.pi, num = len(self.y))\n",
    "                return\n",
    "    \n",
    "    def shoot(self):\n",
    "        self.shooting()\n",
    "        #self.print_solution()\n",
    "        image(self.x, self.y)"
   ]
  },
  {
   "cell_type": "code",
   "execution_count": 67,
   "metadata": {},
   "outputs": [
    {
     "ename": "TypeError",
     "evalue": "f() missing 1 required positional argument: 'z'",
     "output_type": "error",
     "traceback": [
      "\u001b[0;31m---------------------------------------------------------------------------\u001b[0m",
      "\u001b[0;31mTypeError\u001b[0m                                 Traceback (most recent call last)",
      "\u001b[0;32m<ipython-input-67-75cbf2f10a3d>\u001b[0m in \u001b[0;36m<module>\u001b[0;34m\u001b[0m\n\u001b[1;32m     18\u001b[0m \u001b[0;34m\u001b[0m\u001b[0m\n\u001b[1;32m     19\u001b[0m \u001b[0mP\u001b[0m \u001b[0;34m=\u001b[0m \u001b[0mshooting_procedure\u001b[0m\u001b[0;34m(\u001b[0m\u001b[0mg\u001b[0m\u001b[0;34m,\u001b[0m \u001b[0mL1\u001b[0m\u001b[0;34m,\u001b[0m \u001b[0mL2\u001b[0m\u001b[0;34m,\u001b[0m \u001b[0mA\u001b[0m\u001b[0;34m,\u001b[0m \u001b[0mB\u001b[0m\u001b[0;34m)\u001b[0m\u001b[0;34m\u001b[0m\u001b[0;34m\u001b[0m\u001b[0m\n\u001b[0;32m---> 20\u001b[0;31m \u001b[0mP\u001b[0m\u001b[0;34m.\u001b[0m\u001b[0mshoot\u001b[0m\u001b[0;34m(\u001b[0m\u001b[0;34m)\u001b[0m\u001b[0;34m\u001b[0m\u001b[0;34m\u001b[0m\u001b[0m\n\u001b[0m",
      "\u001b[0;32m<ipython-input-66-58f60beb2741>\u001b[0m in \u001b[0;36mshoot\u001b[0;34m(self)\u001b[0m\n\u001b[1;32m     44\u001b[0m \u001b[0;34m\u001b[0m\u001b[0m\n\u001b[1;32m     45\u001b[0m     \u001b[0;32mdef\u001b[0m \u001b[0mshoot\u001b[0m\u001b[0;34m(\u001b[0m\u001b[0mself\u001b[0m\u001b[0;34m)\u001b[0m\u001b[0;34m:\u001b[0m\u001b[0;34m\u001b[0m\u001b[0;34m\u001b[0m\u001b[0m\n\u001b[0;32m---> 46\u001b[0;31m         \u001b[0mself\u001b[0m\u001b[0;34m.\u001b[0m\u001b[0mshooting\u001b[0m\u001b[0;34m(\u001b[0m\u001b[0;34m)\u001b[0m\u001b[0;34m\u001b[0m\u001b[0;34m\u001b[0m\u001b[0m\n\u001b[0m\u001b[1;32m     47\u001b[0m         \u001b[0;31m#self.print_solution()\u001b[0m\u001b[0;34m\u001b[0m\u001b[0;34m\u001b[0m\u001b[0;34m\u001b[0m\u001b[0m\n\u001b[1;32m     48\u001b[0m         \u001b[0mimage\u001b[0m\u001b[0;34m(\u001b[0m\u001b[0mself\u001b[0m\u001b[0;34m.\u001b[0m\u001b[0mx\u001b[0m\u001b[0;34m,\u001b[0m \u001b[0mself\u001b[0m\u001b[0;34m.\u001b[0m\u001b[0my\u001b[0m\u001b[0;34m)\u001b[0m\u001b[0;34m\u001b[0m\u001b[0;34m\u001b[0m\u001b[0m\n",
      "\u001b[0;32m<ipython-input-66-58f60beb2741>\u001b[0m in \u001b[0;36mshooting\u001b[0;34m(self)\u001b[0m\n\u001b[1;32m     32\u001b[0m         \u001b[0;32mwhile\u001b[0m \u001b[0;36m1\u001b[0m\u001b[0;34m:\u001b[0m\u001b[0;34m\u001b[0m\u001b[0;34m\u001b[0m\u001b[0m\n\u001b[1;32m     33\u001b[0m             \u001b[0mi\u001b[0m \u001b[0;34m+=\u001b[0m \u001b[0;36m1\u001b[0m\u001b[0;34m\u001b[0m\u001b[0;34m\u001b[0m\u001b[0m\n\u001b[0;32m---> 34\u001b[0;31m             \u001b[0;32mif\u001b[0m \u001b[0mabs\u001b[0m\u001b[0;34m(\u001b[0m\u001b[0mself\u001b[0m\u001b[0;34m.\u001b[0m\u001b[0mF\u001b[0m\u001b[0;34m(\u001b[0m\u001b[0malpha\u001b[0m\u001b[0;34m)\u001b[0m\u001b[0;34m)\u001b[0m \u001b[0;34m>\u001b[0m \u001b[0meps\u001b[0m\u001b[0;34m:\u001b[0m\u001b[0;34m\u001b[0m\u001b[0;34m\u001b[0m\u001b[0m\n\u001b[0m\u001b[1;32m     35\u001b[0m                 \u001b[0malpha\u001b[0m \u001b[0;34m=\u001b[0m \u001b[0mself\u001b[0m\u001b[0;34m.\u001b[0m\u001b[0malpha_\u001b[0m\u001b[0;34m(\u001b[0m\u001b[0malpha\u001b[0m\u001b[0;34m)\u001b[0m\u001b[0;34m\u001b[0m\u001b[0;34m\u001b[0m\u001b[0m\n\u001b[1;32m     36\u001b[0m             \u001b[0;32melse\u001b[0m\u001b[0;34m:\u001b[0m\u001b[0;34m\u001b[0m\u001b[0;34m\u001b[0m\u001b[0m\n",
      "\u001b[0;32m<ipython-input-66-58f60beb2741>\u001b[0m in \u001b[0;36mF\u001b[0;34m(self, alpha)\u001b[0m\n\u001b[1;32m     12\u001b[0m \u001b[0;34m\u001b[0m\u001b[0m\n\u001b[1;32m     13\u001b[0m     \u001b[0;32mdef\u001b[0m \u001b[0mF\u001b[0m\u001b[0;34m(\u001b[0m\u001b[0mself\u001b[0m\u001b[0;34m,\u001b[0m \u001b[0malpha\u001b[0m\u001b[0;34m)\u001b[0m\u001b[0;34m:\u001b[0m\u001b[0;34m\u001b[0m\u001b[0;34m\u001b[0m\u001b[0m\n\u001b[0;32m---> 14\u001b[0;31m         \u001b[0;32mreturn\u001b[0m \u001b[0mself\u001b[0m\u001b[0;34m.\u001b[0m\u001b[0my\u001b[0m\u001b[0;34m(\u001b[0m\u001b[0malpha\u001b[0m\u001b[0;34m)\u001b[0m \u001b[0;34m-\u001b[0m \u001b[0mself\u001b[0m\u001b[0;34m.\u001b[0m\u001b[0mB\u001b[0m\u001b[0;34m\u001b[0m\u001b[0;34m\u001b[0m\u001b[0m\n\u001b[0m\u001b[1;32m     15\u001b[0m \u001b[0;34m\u001b[0m\u001b[0m\n\u001b[1;32m     16\u001b[0m     \u001b[0;32mdef\u001b[0m \u001b[0mder_F\u001b[0m\u001b[0;34m(\u001b[0m\u001b[0mself\u001b[0m\u001b[0;34m,\u001b[0m \u001b[0mal\u001b[0m\u001b[0;34m)\u001b[0m\u001b[0;34m:\u001b[0m\u001b[0;34m\u001b[0m\u001b[0;34m\u001b[0m\u001b[0m\n",
      "\u001b[0;32m<ipython-input-66-58f60beb2741>\u001b[0m in \u001b[0;36my\u001b[0;34m(self, alpha)\u001b[0m\n\u001b[1;32m      8\u001b[0m \u001b[0;34m\u001b[0m\u001b[0m\n\u001b[1;32m      9\u001b[0m     \u001b[0;32mdef\u001b[0m \u001b[0my\u001b[0m\u001b[0;34m(\u001b[0m\u001b[0mself\u001b[0m\u001b[0;34m,\u001b[0m \u001b[0malpha\u001b[0m\u001b[0;34m)\u001b[0m\u001b[0;34m:\u001b[0m\u001b[0;34m\u001b[0m\u001b[0;34m\u001b[0m\u001b[0m\n\u001b[0;32m---> 10\u001b[0;31m         \u001b[0mS\u001b[0m \u001b[0;34m=\u001b[0m \u001b[0msolve_\u001b[0m\u001b[0;34m(\u001b[0m\u001b[0malpha\u001b[0m\u001b[0;34m)\u001b[0m\u001b[0;34m\u001b[0m\u001b[0;34m\u001b[0m\u001b[0m\n\u001b[0m\u001b[1;32m     11\u001b[0m         \u001b[0;32mreturn\u001b[0m \u001b[0mS\u001b[0m\u001b[0;34m[\u001b[0m\u001b[0mlen\u001b[0m\u001b[0;34m(\u001b[0m\u001b[0mS\u001b[0m\u001b[0;34m)\u001b[0m \u001b[0;34m-\u001b[0m \u001b[0;36m1\u001b[0m\u001b[0;34m]\u001b[0m\u001b[0;34m\u001b[0m\u001b[0;34m\u001b[0m\u001b[0m\n\u001b[1;32m     12\u001b[0m \u001b[0;34m\u001b[0m\u001b[0m\n",
      "\u001b[0;32m<ipython-input-62-ede7373bdf6a>\u001b[0m in \u001b[0;36msolve_\u001b[0;34m(alpha)\u001b[0m\n\u001b[1;32m     35\u001b[0m     \u001b[0mT\u001b[0m \u001b[0;34m=\u001b[0m \u001b[0mnp\u001b[0m\u001b[0;34m.\u001b[0m\u001b[0mpi\u001b[0m\u001b[0;34m\u001b[0m\u001b[0;34m\u001b[0m\u001b[0m\n\u001b[1;32m     36\u001b[0m     \u001b[0;32mwhile\u001b[0m \u001b[0mt\u001b[0m \u001b[0;34m<\u001b[0m \u001b[0mT\u001b[0m\u001b[0;34m:\u001b[0m\u001b[0;34m\u001b[0m\u001b[0;34m\u001b[0m\u001b[0m\n\u001b[0;32m---> 37\u001b[0;31m         \u001b[0mu\u001b[0m \u001b[0;34m=\u001b[0m \u001b[0mRK4\u001b[0m\u001b[0;34m(\u001b[0m\u001b[0mt\u001b[0m\u001b[0;34m,\u001b[0m \u001b[0mu\u001b[0m\u001b[0;34m,\u001b[0m \u001b[0mh\u001b[0m\u001b[0;34m)\u001b[0m\u001b[0;34m\u001b[0m\u001b[0;34m\u001b[0m\u001b[0m\n\u001b[0m\u001b[1;32m     38\u001b[0m         \u001b[0mu_\u001b[0m\u001b[0;34m.\u001b[0m\u001b[0mappend\u001b[0m\u001b[0;34m(\u001b[0m\u001b[0mu\u001b[0m\u001b[0;34m)\u001b[0m\u001b[0;34m\u001b[0m\u001b[0;34m\u001b[0m\u001b[0m\n\u001b[1;32m     39\u001b[0m         \u001b[0mt\u001b[0m \u001b[0;34m+=\u001b[0m \u001b[0mh\u001b[0m\u001b[0;34m\u001b[0m\u001b[0;34m\u001b[0m\u001b[0m\n",
      "\u001b[0;32m<ipython-input-62-ede7373bdf6a>\u001b[0m in \u001b[0;36mRK4\u001b[0;34m(t, u, h)\u001b[0m\n\u001b[1;32m     21\u001b[0m \u001b[0;34m\u001b[0m\u001b[0m\n\u001b[1;32m     22\u001b[0m \u001b[0;32mdef\u001b[0m \u001b[0mRK4\u001b[0m\u001b[0;34m(\u001b[0m\u001b[0mt\u001b[0m\u001b[0;34m,\u001b[0m \u001b[0mu\u001b[0m\u001b[0;34m,\u001b[0m \u001b[0mh\u001b[0m\u001b[0;34m)\u001b[0m\u001b[0;34m:\u001b[0m\u001b[0;34m\u001b[0m\u001b[0;34m\u001b[0m\u001b[0m\n\u001b[0;32m---> 23\u001b[0;31m     \u001b[0mk1\u001b[0m \u001b[0;34m=\u001b[0m \u001b[0mh\u001b[0m \u001b[0;34m*\u001b[0m \u001b[0mf\u001b[0m\u001b[0;34m(\u001b[0m\u001b[0mt\u001b[0m\u001b[0;34m,\u001b[0m \u001b[0mu\u001b[0m\u001b[0;34m,\u001b[0m \u001b[0malpha\u001b[0m\u001b[0;34m)\u001b[0m\u001b[0;34m\u001b[0m\u001b[0;34m\u001b[0m\u001b[0m\n\u001b[0m\u001b[1;32m     24\u001b[0m     \u001b[0mk2\u001b[0m \u001b[0;34m=\u001b[0m \u001b[0mh\u001b[0m \u001b[0;34m*\u001b[0m \u001b[0mf\u001b[0m\u001b[0;34m(\u001b[0m\u001b[0mt\u001b[0m \u001b[0;34m+\u001b[0m \u001b[0;34m(\u001b[0m\u001b[0;36m1\u001b[0m\u001b[0;34m/\u001b[0m\u001b[0;36m2\u001b[0m\u001b[0;34m)\u001b[0m\u001b[0;34m*\u001b[0m\u001b[0mh\u001b[0m\u001b[0;34m,\u001b[0m \u001b[0mu\u001b[0m \u001b[0;34m+\u001b[0m \u001b[0;34m(\u001b[0m\u001b[0;36m1\u001b[0m\u001b[0;34m/\u001b[0m\u001b[0;36m2\u001b[0m\u001b[0;34m)\u001b[0m\u001b[0;34m*\u001b[0m\u001b[0mk1\u001b[0m\u001b[0;34m,\u001b[0m \u001b[0malpha\u001b[0m\u001b[0;34m)\u001b[0m\u001b[0;34m\u001b[0m\u001b[0;34m\u001b[0m\u001b[0m\n\u001b[1;32m     25\u001b[0m     \u001b[0mk3\u001b[0m \u001b[0;34m=\u001b[0m \u001b[0mh\u001b[0m \u001b[0;34m*\u001b[0m \u001b[0mf\u001b[0m\u001b[0;34m(\u001b[0m\u001b[0mt\u001b[0m \u001b[0;34m+\u001b[0m \u001b[0;34m(\u001b[0m\u001b[0;36m1\u001b[0m\u001b[0;34m/\u001b[0m\u001b[0;36m2\u001b[0m\u001b[0;34m)\u001b[0m\u001b[0;34m*\u001b[0m\u001b[0mh\u001b[0m\u001b[0;34m,\u001b[0m \u001b[0mu\u001b[0m \u001b[0;34m+\u001b[0m \u001b[0;34m(\u001b[0m\u001b[0;36m1\u001b[0m\u001b[0;34m/\u001b[0m\u001b[0;36m2\u001b[0m\u001b[0;34m)\u001b[0m\u001b[0;34m*\u001b[0m\u001b[0mk2\u001b[0m\u001b[0;34m,\u001b[0m \u001b[0malpha\u001b[0m\u001b[0;34m)\u001b[0m\u001b[0;34m\u001b[0m\u001b[0;34m\u001b[0m\u001b[0m\n",
      "\u001b[0;31mTypeError\u001b[0m: f() missing 1 required positional argument: 'z'"
     ]
    }
   ],
   "source": [
    "# Задание функции z = f(x, y, z)\n",
    "x, y, z = symbols('x y z')\n",
    "def f__(p, x, y, z):\n",
    "    if p == 1:\n",
    "        return (x**2 - 3) * (z + y * cos(x))\n",
    "    if p == 2:\n",
    "        return 2 - 6*x + 2*x**3 + (x**2 - 3) * exp(x) * sin(x) * (1 + cos(x))\n",
    "    if p == 3:\n",
    "        return cos(x) * (exp(x) + (x**2 - 1) + x**4 - 3*x**2)\n",
    "    if p == 4:\n",
    "        return -f__(1, x, y, z) + f__(2, x, y, z) + f__(3, x, y, z)\n",
    "g = f__(4, x, y, z)\n",
    "\n",
    "\n",
    "# Задание параметров задачи\n",
    "A, B = 0, pi**2\n",
    "L1, L2 = 0, np.pi\n",
    "\n",
    "P = shooting_procedure(g, L1, L2, A, B)\n",
    "P.shoot()"
   ]
  },
  {
   "cell_type": "code",
   "execution_count": null,
   "metadata": {},
   "outputs": [],
   "source": []
  }
 ],
 "metadata": {
  "kernelspec": {
   "display_name": "Python 3",
   "language": "python",
   "name": "python3"
  },
  "language_info": {
   "codemirror_mode": {
    "name": "ipython",
    "version": 3
   },
   "file_extension": ".py",
   "mimetype": "text/x-python",
   "name": "python",
   "nbconvert_exporter": "python",
   "pygments_lexer": "ipython3",
   "version": "3.8.3"
  }
 },
 "nbformat": 4,
 "nbformat_minor": 4
}
