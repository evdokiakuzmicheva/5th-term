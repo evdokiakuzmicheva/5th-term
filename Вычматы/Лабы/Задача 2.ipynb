{
 "cells": [
  {
   "cell_type": "code",
   "execution_count": 21,
   "metadata": {},
   "outputs": [],
   "source": [
    "import numpy as np\n",
    "from matplotlib import pyplot as plt\n",
    "from sympy import symbols, init_printing, sin, cos, exp\n",
    "init_printing()"
   ]
  },
  {
   "cell_type": "code",
   "execution_count": 44,
   "metadata": {},
   "outputs": [
    {
     "name": "stdout",
     "output_type": "stream",
     "text": [
      "метод прямоугольников:\t 0.01519\n",
      "метод трапеций:\t\t 0.01469\n",
      "метод Симпсона:\t\t 0.010405483786458402\n",
      "метод Симпсона 3/8:\t 0.010177964149567153\n"
     ]
    }
   ],
   "source": [
    "def f(x):\n",
    "    return np.sin(100 * x) * np.exp(-x ** 2) * np.cos(2 * x)\n",
    "\n",
    "x = np.linspace(0, 3, 100)\n",
    "\n",
    "# метод прямоугольников\n",
    "def rectangle(x):\n",
    "    I = 0\n",
    "    for i in range(len(x) - 1):\n",
    "        h = x[i + 1] - x[i]\n",
    "        x_ = (x[i] + x[i + 1]) / 2\n",
    "        I += f(x_) * h\n",
    "    return I\n",
    "print('метод прямоугольников:\\t', rectangle(x).round(5))\n",
    "\n",
    "# метод трапеций\n",
    "def trapezoid(x):\n",
    "    I = 0\n",
    "    for i in range(len(x) - 1):\n",
    "        h = x[i + 1] - x[i]\n",
    "        I += h / 2 * (f(x[i] + f(x[i + 1])))\n",
    "    return I\n",
    "print('метод трапеций:\\t\\t', trapezoid(x).round(5))\n",
    "\n",
    "# метод Симпсона\n",
    "def simpson(x):\n",
    "    I = 0\n",
    "    for i in range(len(x) - 1):\n",
    "        h = x[i + 1] - x[i]\n",
    "        x_ = (x[i + 1] + x[i]) / 2\n",
    "        I += h / 6 * (f(x[i + 1]) + 4 * f(x_) + f(x[i]))\n",
    "    return I\n",
    "print('метод Симпсона:\\t\\t', simpson(x))\n",
    "\n",
    "# метод Симпсона 3/8\n",
    "def simpson_3_8(x):\n",
    "    I = 0\n",
    "    for i in range(len(x) - 1):\n",
    "        h = x[i + 1] - x[i]\n",
    "        x_1 = x[i] + 1 / 3 * h\n",
    "        x_2 = x[i] + 2 / 3 * h\n",
    "        I += h / 8 * (f(x[i]) + 3 * (f(x_1) + f(x_2)) + f(x[i + 1]))\n",
    "    return I\n",
    "print('метод Симпсона 3/8:\\t', simpson_3_8(x))"
   ]
  },
  {
   "cell_type": "code",
   "execution_count": null,
   "metadata": {},
   "outputs": [],
   "source": []
  }
 ],
 "metadata": {
  "kernelspec": {
   "display_name": "Python 3",
   "language": "python",
   "name": "python3"
  },
  "language_info": {
   "codemirror_mode": {
    "name": "ipython",
    "version": 3
   },
   "file_extension": ".py",
   "mimetype": "text/x-python",
   "name": "python",
   "nbconvert_exporter": "python",
   "pygments_lexer": "ipython3",
   "version": "3.8.3"
  }
 },
 "nbformat": 4,
 "nbformat_minor": 4
}
