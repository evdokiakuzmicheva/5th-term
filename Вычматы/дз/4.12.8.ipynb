{
 "cells": [
  {
   "cell_type": "markdown",
   "metadata": {},
   "source": [
    "$ f(x) = x e^{-x^2}, \\: x \\geq 0 $  \n",
    "Найдём точку максимума f(x).  \n",
    "$ f'(x) = \\left({1 - 2x^2}\\right) e^{-x^2} \\Rightarrow x_{max} = \\frac{1}{\\sqrt{2}}, \\: f(x_{max}) = \\frac{1}{\\sqrt{2e}} $"
   ]
  },
  {
   "cell_type": "code",
   "execution_count": 1,
   "metadata": {},
   "outputs": [],
   "source": [
    "import numpy as np\n",
    "from matplotlib import pyplot as plt"
   ]
  },
  {
   "cell_type": "code",
   "execution_count": 2,
   "metadata": {},
   "outputs": [
    {
     "name": "stdout",
     "output_type": "stream",
     "text": [
      "x1 = 0.226\n",
      "x2 = 1.359\n",
      "Δ = 1.133\n"
     ]
    }
   ],
   "source": [
    "def f(x):\n",
    "    return x * np.exp(-x ** 2)\n",
    "\n",
    "# F(x) = 0\n",
    "def F(x, h):\n",
    "    return f(x) - h\n",
    "\n",
    "def phi(x, n):\n",
    "    if n == 1:\n",
    "        return x - F(x, h)\n",
    "    else:\n",
    "        return np.sqrt(x ** 2 + F(x, h) ** 2)\n",
    "\n",
    "# Метод простых итераций\n",
    "def MPI(x0, h, n):\n",
    "    x = x0\n",
    "    eps = 0.0001\n",
    "    while True:\n",
    "        x_p = x\n",
    "        x = phi(x_p, n)\n",
    "        if (abs(F(x, h)) <= eps):\n",
    "            return x_p.round(3)\n",
    "\n",
    "x0 = 1 / np.sqrt(2) # начальное приближение\n",
    "h = f(x0) / 2 # значение половины высоты функции\n",
    "print('x1 =', MPI(x0, h, 1))\n",
    "print('x2 =', MPI(x0, h, 2))\n",
    "print('Δ =', (MPI(x0, h, 2) - MPI(x0, h, 1)))"
   ]
  },
  {
   "cell_type": "code",
   "execution_count": 3,
   "metadata": {},
   "outputs": [
    {
     "data": {
      "image/png": "[encoded data removed]",
      "text/plain": [
       "<Figure size 432x288 with 1 Axes>"
      ]
     },
     "metadata": {
      "needs_background": "light"
     },
     "output_type": "display_data"
    }
   ],
   "source": [
    "fig, ax = plt.subplots()\n",
    "x = np.linspace(0, 5, 60)\n",
    "ax.plot(x, x * np.exp(-x ** 2), '-')\n",
    "ax.grid()\n",
    "plt.show()"
   ]
  },
  {
   "cell_type": "code",
   "execution_count": null,
   "metadata": {},
   "outputs": [],
   "source": []
  }
 ],
 "metadata": {
  "kernelspec": {
   "display_name": "Python 3",
   "language": "python",
   "name": "python3"
  },
  "language_info": {
   "codemirror_mode": {
    "name": "ipython",
    "version": 3
   },
   "file_extension": ".py",
   "mimetype": "text/x-python",
   "name": "python",
   "nbconvert_exporter": "python",
   "pygments_lexer": "ipython3",
   "version": "3.8.3"
  }
 },
 "nbformat": 4,
 "nbformat_minor": 4
}
