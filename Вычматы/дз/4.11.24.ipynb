{
 "cells": [
  {
   "cell_type": "code",
   "execution_count": 84,
   "metadata": {},
   "outputs": [],
   "source": [
    "import numpy as np\n",
    "from matplotlib import pyplot as plt"
   ]
  },
  {
   "cell_type": "markdown",
   "metadata": {},
   "source": [
    "### пункт а"
   ]
  },
  {
   "cell_type": "code",
   "execution_count": 85,
   "metadata": {},
   "outputs": [
    {
     "data": {
      "image/png": "[encoded data removed]",
      "text/plain": [
       "<Figure size 432x288 with 1 Axes>"
      ]
     },
     "metadata": {
      "needs_background": "light"
     },
     "output_type": "display_data"
    },
    {
     "name": "stdout",
     "output_type": "stream",
     "text": [
      "Из графика определяем значения начального приближения для решения методом Ньютона.\n"
     ]
    }
   ],
   "source": [
    "y = np.linspace(-0.7, 3, 100)\n",
    "x = (y - 1) ** 3 + 1\n",
    "\n",
    "fig, ax = plt.subplots()\n",
    "ax.add_patch(plt.Circle((0, 0), 3, color='black', fill=False))\n",
    "plt.axis('scaled')\n",
    "ax.plot(x, y, '-')\n",
    "ax.grid()\n",
    "plt.show()\n",
    "print('Из графика определяем значения начального приближения для решения методом Ньютона.')"
   ]
  },
  {
   "cell_type": "code",
   "execution_count": 86,
   "metadata": {},
   "outputs": [
    {
     "name": "stdout",
     "output_type": "stream",
     "text": [
      "Решение:\n",
      "(x1, y1) = (-2.943421, -0.579881),\t 9 итераций\n",
      "(x2, y2) = (2.183129, 2.057655),\t 3 итераций\n"
     ]
    }
   ],
   "source": [
    "def x(y):\n",
    "    return (y - 1) ** 3 + 1\n",
    "\n",
    "def F(y):\n",
    "    return x(y) ** 2 + y ** 2 - 9\n",
    "\n",
    "def dF(y):\n",
    "    return 2 * ((y - 1) ** 3 + 1) * 3 * (y - 1) ** 2 + 2 * y\n",
    "\n",
    "def Newtown(y0):\n",
    "    y = y0 \n",
    "    eps = 10 ** (-6)\n",
    "    n = 0\n",
    "    while True:\n",
    "        if abs(F(y)) <= eps:\n",
    "            return round(y, 6), n\n",
    "        n += 1\n",
    "        y -= F(y) / dF(y)\n",
    "        \n",
    "y1, n1 = Newtown(-3)\n",
    "y2, n2 = Newtown(2)\n",
    "print('Решение:')\n",
    "print('(x1, y1) = (' + str(round(x(y1), 6)) + ', ' + str(y1) + '),\\t', n1, 'итераций')\n",
    "print('(x2, y2) = (' + str(round(x(y2), 6)) + ', ' + str(y2) + '),\\t', n2, 'итераций')"
   ]
  },
  {
   "cell_type": "markdown",
   "metadata": {},
   "source": [
    "### пункт б"
   ]
  },
  {
   "cell_type": "code",
   "execution_count": 87,
   "metadata": {},
   "outputs": [
    {
     "data": {
      "image/png": "[encoded data removed]",
      "text/plain": [
       "<Figure size 432x288 with 1 Axes>"
      ]
     },
     "metadata": {
      "needs_background": "light"
     },
     "output_type": "display_data"
    },
    {
     "name": "stdout",
     "output_type": "stream",
     "text": [
      "Из графика определяем значения начального приближения для решения методом Ньютона.\n"
     ]
    }
   ],
   "source": [
    "x = np.linspace(-5, 5, 50)\n",
    "y = (x + 1) ** 3 + 1\n",
    "\n",
    "fig, ax = plt.subplots()\n",
    "ax.add_patch(plt.Circle((0, 0), 5, color='black', fill=False))\n",
    "plt.axis('scaled')\n",
    "ax.plot(x, y, '-')\n",
    "ax.grid()\n",
    "plt.show()\n",
    "print('Из графика определяем значения начального приближения для решения методом Ньютона.')"
   ]
  },
  {
   "cell_type": "code",
   "execution_count": 88,
   "metadata": {},
   "outputs": [
    {
     "name": "stdout",
     "output_type": "stream",
     "text": [
      "Решение:\n",
      "(x1, y1) = (-2.731163, -4.188166),\t 5 итераций\n",
      "(x2, y2) = (0.582879, 4.965913),\t 5 итераций\n"
     ]
    }
   ],
   "source": [
    "def y(x):\n",
    "    return (x + 1) ** 3 + 1\n",
    "\n",
    "def F(x):\n",
    "    return x ** 2 + y(x) ** 2 - 25\n",
    "\n",
    "def dF(x):\n",
    "    return 2 * x + 2 * y(x) * 3 * (x + 1) ** 2\n",
    "\n",
    "def Newtown(x0):\n",
    "    x = x0 # начальное приближение\n",
    "    eps = 10 ** (-6)\n",
    "    n = 0\n",
    "    while True:\n",
    "        if abs(F(x)) <= eps:\n",
    "            return round(x, 6), n\n",
    "        n += 1\n",
    "        x -= F(x) / dF(x)\n",
    "        \n",
    "print('Решение:')\n",
    "x1, n1 = Newtown(-3)\n",
    "x2, n2 = Newtown(1)\n",
    "print('(x1, y1) = (' + str(x1) + ', ' + str(round(y(x1), 6)) + '),\\t', n1, 'итераций')\n",
    "print('(x2, y2) = (' + str(x2) + ', ' + str(round(y(x2), 6)) + '),\\t', n2, 'итераций')"
   ]
  },
  {
   "cell_type": "code",
   "execution_count": null,
   "metadata": {},
   "outputs": [],
   "source": []
  }
 ],
 "metadata": {
  "kernelspec": {
   "display_name": "Python 3",
   "language": "python",
   "name": "python3"
  },
  "language_info": {
   "codemirror_mode": {
    "name": "ipython",
    "version": 3
   },
   "file_extension": ".py",
   "mimetype": "text/x-python",
   "name": "python",
   "nbconvert_exporter": "python",
   "pygments_lexer": "ipython3",
   "version": "3.8.3"
  }
 },
 "nbformat": 4,
 "nbformat_minor": 4
}
