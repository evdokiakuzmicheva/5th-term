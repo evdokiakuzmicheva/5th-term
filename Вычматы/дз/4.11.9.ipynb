{
 "cells": [
  {
   "cell_type": "code",
   "execution_count": 31,
   "metadata": {},
   "outputs": [
    {
     "name": "stdout",
     "output_type": "stream",
     "text": [
      "Обозначим\n",
      "f1(x, y) = xy - x² - 1.03,\n",
      "f2(x, y) = -2x³ + y² - 1.98.\n",
      "Отклонение от 0 функций f1(x, y) и f2(x, y) в заданном приближённом решении x0 = 1, y0 = 2.\n",
      "-0.030000000000000027 0.020000000000000018\n",
      "Значит, точность данного решения: ε = 10⁻². Требуется улучшить точность в 10⁴. Находим решение с точностью 10⁻⁶.\n",
      "\n",
      "Уточнённое решение: x = 1.0228491954023715 , y = 2.029840266840403 .\n",
      "Отклонение от 0 функций f1(x, y) и f2(x, y) в уточнённом решении 7.197762608157632e-09 -3.638847223541575e-08 .\n",
      "Количество итераций: 7 .\n"
     ]
    }
   ],
   "source": [
    "def f1(x, y):\n",
    "    return x * y - x ** 2 - 1.03\n",
    "\n",
    "def f2(x, y):\n",
    "    return -2 * x ** 3 + y ** 2 - 1.98\n",
    "\n",
    "def iteration(x_k, y_k):\n",
    "    return ((y_k ** 2 - 1.98) / 2) ** (1 / 3), x_k + 1.03 / x_k\n",
    "\n",
    "x0, y0 = 1, 2\n",
    "print('Обозначим\\nf1(x, y) = xy - x² - 1.03,\\nf2(x, y) = -2x³ + y² - 1.98.')\n",
    "print('Отклонение от 0 функций f1(x, y) и f2(x, y) в заданном приближённом решении x0 = 1, y0 = 2.')\n",
    "print(f1(x0, y0), f2(x0, y0))\n",
    "print('Значит, точность данного решения: ε = 10⁻². Требуется улучшить точность в 10⁴. Находим решение с точностью 10⁻⁶.')\n",
    "eps = 10 ** (-6)\n",
    "def correction(x0, y0):\n",
    "    x, y = x0, y0\n",
    "    n = 0\n",
    "    while True:\n",
    "        n += 1\n",
    "        if abs(f1(x, y)) <= eps and abs(f2(x, y)) <= eps:\n",
    "            print('\\nУточнённое решение: x =', x, ', y =', y, '.')\n",
    "            print('Отклонение от 0 функций f1(x, y) и f2(x, y) в уточнённом решении', f1(x, y), f2(x, y), '.')\n",
    "            print('Количество итераций:', n, '.')\n",
    "            return\n",
    "        x, y = iteration(x, y)\n",
    "        \n",
    "correction(x0, y0)\n"
   ]
  },
  {
   "cell_type": "code",
   "execution_count": null,
   "metadata": {},
   "outputs": [],
   "source": []
  }
 ],
 "metadata": {
  "kernelspec": {
   "display_name": "Python 3",
   "language": "python",
   "name": "python3"
  },
  "language_info": {
   "codemirror_mode": {
    "name": "ipython",
    "version": 3
   },
   "file_extension": ".py",
   "mimetype": "text/x-python",
   "name": "python",
   "nbconvert_exporter": "python",
   "pygments_lexer": "ipython3",
   "version": "3.8.3"
  }
 },
 "nbformat": 4,
 "nbformat_minor": 4
}
