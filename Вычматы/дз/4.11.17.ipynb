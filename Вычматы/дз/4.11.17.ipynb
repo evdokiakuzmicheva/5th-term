{
 "cells": [
  {
   "cell_type": "code",
   "execution_count": 1,
   "metadata": {},
   "outputs": [],
   "source": [
    "import numpy as np\n",
    "from matplotlib import pyplot as plt"
   ]
  },
  {
   "cell_type": "code",
   "execution_count": 3,
   "metadata": {},
   "outputs": [
    {
     "data": {
      "image/png": "[encoded data removed]",
      "text/plain": [
       "<Figure size 432x288 with 1 Axes>"
      ]
     },
     "metadata": {
      "needs_background": "light"
     },
     "output_type": "display_data"
    },
    {
     "name": "stdout",
     "output_type": "stream",
     "text": [
      "Из графика оцениваем начальное приближение.\n"
     ]
    }
   ],
   "source": [
    "def f(x):\n",
    "    return np.log(x + 1) - 2 * x ** 2 + 1\n",
    "\n",
    "fig, ax = plt.subplots()\n",
    "x = np.linspace(-0.99999999, 5, 60)\n",
    "ax.plot(x, f(x), '-')\n",
    "ax.grid()\n",
    "plt.show()\n",
    "print('Из графика оцениваем начальное приближение.')"
   ]
  },
  {
   "cell_type": "code",
   "execution_count": 6,
   "metadata": {},
   "outputs": [
    {
     "name": "stdout",
     "output_type": "stream",
     "text": [
      "1-й метод: 7 итераций, x1 = 0.907073\n",
      "2-й метод: 1208 итераций, x2 = -0.449215\n",
      "3-й метод: 46 итераций, x3 = 0.907075\n",
      "\n",
      "Вывод: \n",
      "Первый метод наиболее целесообразно использовать, потому что решение вычисляется за наименьшее количество итераций.\n",
      "В 4-м методе сложно подобрать начальное приближение таким образом, чтобы при вычислении решения удовлетворялись условия существования логарифма. К тому же слишком много итераций.\n"
     ]
    }
   ],
   "source": [
    "def phi(x, n):\n",
    "    if n == 1:\n",
    "        return np.sqrt((np.log(x + 1) + 1) / 2)\n",
    "    if n == 2:\n",
    "        return np.exp(2 * x ** 2 - 1) - 1\n",
    "    if n == 3:\n",
    "        return (np.log(x + 1) + 1) / (2 * x)\n",
    "    if n == 4:\n",
    "        return x + np.log(x + 1) - 2 * x ** 2 + 1\n",
    "\n",
    "# Метод простых итераций\n",
    "# x0 - начальное приближение, n - номер проверяемого метода\n",
    "def MPI(x0, n):\n",
    "    x = x0\n",
    "    eps = 10 ** (-6)\n",
    "    m = 0\n",
    "    while True:\n",
    "        x_p = x\n",
    "        x = phi(x_p, n)\n",
    "        if (abs(f(x)) <= eps):\n",
    "            print(str(n) + '-й метод:', m, 'итераций, x' + str(n) + ' =', x_p.round(6))\n",
    "            return\n",
    "        m += 1\n",
    "\n",
    "for i in range(3):\n",
    "    if i <= 1:\n",
    "        x0 = 0\n",
    "    elif i == 2:\n",
    "        x0 = 0.1\n",
    "    MPI(x0, i + 1)\n",
    "\n",
    "print('\\nВывод: \\nПервый метод наиболее целесообразно использовать, потому что решение вычисляется за наименьшее количество итераций.')\n",
    "print('В 4-м методе сложно подобрать начальное приближение таким образом, чтобы при вычислении решения удовлетворялись условия существования логарифма. К тому же слишком много итераций.')"
   ]
  },
  {
   "cell_type": "code",
   "execution_count": null,
   "metadata": {},
   "outputs": [],
   "source": []
  }
 ],
 "metadata": {
  "kernelspec": {
   "display_name": "Python 3",
   "language": "python",
   "name": "python3"
  },
  "language_info": {
   "codemirror_mode": {
    "name": "ipython",
    "version": 3
   },
   "file_extension": ".py",
   "mimetype": "text/x-python",
   "name": "python",
   "nbconvert_exporter": "python",
   "pygments_lexer": "ipython3",
   "version": "3.8.3"
  }
 },
 "nbformat": 4,
 "nbformat_minor": 4
}
